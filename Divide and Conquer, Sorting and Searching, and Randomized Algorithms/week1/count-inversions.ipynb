{
 "cells": [
  {
   "cell_type": "code",
   "execution_count": 1,
   "metadata": {},
   "outputs": [
    {
     "name": "stdout",
     "output_type": "stream",
     "text": [
      "[120, 34, 54, 56, 32, 1]\n",
      "\n",
      "(120, 34)\n",
      "(120, 54)\n",
      "(120, 56)\n",
      "(120, 32)\n",
      "(120, 1)\n",
      "(34, 32)\n",
      "(34, 1)\n",
      "(54, 32)\n",
      "(54, 1)\n",
      "(56, 32)\n",
      "(56, 1)\n",
      "(32, 1)\n"
     ]
    }
   ],
   "source": [
    "def count(lst):\n",
    "    for i in range(len(lst)):\n",
    "        for j in range(i+1, len(lst)):\n",
    "            if lst[i] > lst[j] and i < j:\n",
    "                print((lst[i], lst[j]))\n",
    "                \n",
    "lst = [120, 34, 54, 56, 32, 1]\n",
    "print(lst)\n",
    "print()\n",
    "count(lst)"
   ]
  },
  {
   "cell_type": "code",
   "execution_count": 4,
   "metadata": {},
   "outputs": [
    {
     "name": "stdout",
     "output_type": "stream",
     "text": [
      "(120, 34)\n",
      "(120, 54)\n",
      "(32, 1)\n",
      "(56, 1)\n",
      "(56, 32)\n",
      "(34, 1)\n",
      "(34, 32)\n",
      "(120, 56)\n",
      "[1, 32, 34, 54, 56, 120]\n"
     ]
    }
   ],
   "source": [
    "a = lst + []\n",
    "mergeSort(a)\n",
    "print(a)"
   ]
  },
  {
   "cell_type": "code",
   "execution_count": 3,
   "metadata": {},
   "outputs": [],
   "source": [
    "def mergeSort(lst):\n",
    "    if len(lst) in [0, 1]: return lst\n",
    "    else:\n",
    "        mid = len(lst)//2\n",
    "        \n",
    "        left = lst[:mid]\n",
    "        right = lst[mid:]\n",
    "        \n",
    "        mergeSort(left)\n",
    "        mergeSort(right)\n",
    "        \n",
    "        i = j = k = 0\n",
    "        \n",
    "        while i < len(left) and j < len(right):\n",
    "            if left[i] < right[j]: \n",
    "                lst[k] = left[i]\n",
    "                i = i + 1\n",
    "            else: # left[i] > right[j]\n",
    "                print((left[i], right[j]))\n",
    "                lst[k] = right[j]\n",
    "                j = j + 1\n",
    "            k = k + 1\n",
    "            \n",
    "            \n",
    "        while i < len(left):\n",
    "            lst[k] = left[i]\n",
    "            i = i + 1\n",
    "            k = k + 1\n",
    "        \n",
    "        while j < len(right):\n",
    "            lst[k] = right[j]\n",
    "            j = j + 1\n",
    "            k = k + 1"
   ]
  },
  {
   "cell_type": "code",
   "execution_count": null,
   "metadata": {},
   "outputs": [],
   "source": []
  }
 ],
 "metadata": {
  "kernelspec": {
   "display_name": "Python 3",
   "language": "python",
   "name": "python3"
  },
  "language_info": {
   "codemirror_mode": {
    "name": "ipython",
    "version": 3
   },
   "file_extension": ".py",
   "mimetype": "text/x-python",
   "name": "python",
   "nbconvert_exporter": "python",
   "pygments_lexer": "ipython3",
   "version": "3.7.5"
  }
 },
 "nbformat": 4,
 "nbformat_minor": 2
}
