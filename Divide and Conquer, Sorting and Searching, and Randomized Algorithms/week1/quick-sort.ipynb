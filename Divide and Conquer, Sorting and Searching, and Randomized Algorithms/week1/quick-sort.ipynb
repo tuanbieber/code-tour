{
 "cells": [
  {
   "cell_type": "code",
   "execution_count": 1,
   "metadata": {},
   "outputs": [],
   "source": [
    "# divide and conquer like merge sort\n",
    "# two main parts: pivot and partition"
   ]
  },
  {
   "cell_type": "code",
   "execution_count": 38,
   "metadata": {},
   "outputs": [],
   "source": [
    "# take the last element as pivot, places the pivot in its correct\n",
    "# position in sorted array, and places all smaller elements\n",
    "# to the left, all greater elements to the right\n",
    "# partition is to move the pivot to the right position\n",
    "# and places all smaller elements in left ..."
   ]
  },
  {
   "cell_type": "code",
   "execution_count": 58,
   "metadata": {},
   "outputs": [],
   "source": [
    "def partition(lst, low, high):\n",
    "    pivot = lst[high]\n",
    "    i = low\n",
    "    for idx in range(low, high):\n",
    "        if lst[idx] < pivot:\n",
    "            lst[i], lst[idx] = lst[idx], lst[i]\n",
    "            i = i + 1\n",
    "    lst[i], lst[high] = lst[high], lst[i]\n",
    "    return i"
   ]
  },
  {
   "cell_type": "code",
   "execution_count": 61,
   "metadata": {},
   "outputs": [
    {
     "name": "stdout",
     "output_type": "stream",
     "text": [
      "[20, 8, 13, 25, 26, 16, 18, 15]\n"
     ]
    }
   ],
   "source": [
    "lst  = [20, 8, 13, 25, 26, 16, 18, 15]\n",
    "# res = partition(lst, 0, 7)\n",
    "# print('this is res ', res)\n",
    "print(lst)"
   ]
  },
  {
   "cell_type": "code",
   "execution_count": 64,
   "metadata": {},
   "outputs": [
    {
     "name": "stdout",
     "output_type": "stream",
     "text": [
      "[8, 13, 15, 16, 18, 20, 25, 26]\n"
     ]
    }
   ],
   "source": [
    "def quickSort(lst, low, high):\n",
    "    \n",
    "    if low < high:\n",
    "        \n",
    "        pi = partition(lst, low, high)\n",
    "        \n",
    "        quickSort(lst, low, pi-1)\n",
    "\n",
    "        quickSort(lst, pi+1, high)\n",
    "\n",
    "quickSort(lst, 0, 7)\n",
    "print(lst)"
   ]
  },
  {
   "cell_type": "code",
   "execution_count": null,
   "metadata": {},
   "outputs": [],
   "source": []
  }
 ],
 "metadata": {
  "kernelspec": {
   "display_name": "Python 3",
   "language": "python",
   "name": "python3"
  },
  "language_info": {
   "codemirror_mode": {
    "name": "ipython",
    "version": 3
   },
   "file_extension": ".py",
   "mimetype": "text/x-python",
   "name": "python",
   "nbconvert_exporter": "python",
   "pygments_lexer": "ipython3",
   "version": "3.7.5"
  }
 },
 "nbformat": 4,
 "nbformat_minor": 2
}
