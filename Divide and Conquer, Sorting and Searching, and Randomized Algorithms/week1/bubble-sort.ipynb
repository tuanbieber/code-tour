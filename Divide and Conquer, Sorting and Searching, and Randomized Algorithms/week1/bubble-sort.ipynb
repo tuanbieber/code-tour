{
 "cells": [
  {
   "cell_type": "code",
   "execution_count": 1,
   "metadata": {},
   "outputs": [],
   "source": [
    "def bubbleSort(lst):\n",
    "    for i in range(0, len(lst)-1):\n",
    "        for j in range(i+1, len(lst)):\n",
    "            if lst[i] > lst[j]:\n",
    "                lst[i], lst[j] = lst[j], lst[i]"
   ]
  },
  {
   "cell_type": "code",
   "execution_count": 2,
   "metadata": {},
   "outputs": [
    {
     "name": "stdout",
     "output_type": "stream",
     "text": [
      "[34, 54, 65, 2, 7, 43, 64]\n",
      "[2, 7, 34, 43, 54, 64, 65]\n"
     ]
    }
   ],
   "source": [
    "lst = [34, 54, 65, 2, 7, 43, 64]\n",
    "print(lst)\n",
    "bubbleSort(lst)\n",
    "print(lst)"
   ]
  },
  {
   "cell_type": "code",
   "execution_count": 3,
   "metadata": {},
   "outputs": [],
   "source": [
    "# auxiliary space: O(1)\n",
    "# time complexity:\n",
    "# worst case: O(n*n) when the array is reversed sorted\n",
    "# average case: O(n*n)\n",
    "# best case: when the array is already sorted\n",
    "# stable: yes"
   ]
  },
  {
   "cell_type": "code",
   "execution_count": null,
   "metadata": {},
   "outputs": [],
   "source": []
  }
 ],
 "metadata": {
  "kernelspec": {
   "display_name": "Python 3",
   "language": "python",
   "name": "python3"
  },
  "language_info": {
   "codemirror_mode": {
    "name": "ipython",
    "version": 3
   },
   "file_extension": ".py",
   "mimetype": "text/x-python",
   "name": "python",
   "nbconvert_exporter": "python",
   "pygments_lexer": "ipython3",
   "version": "3.7.5"
  }
 },
 "nbformat": 4,
 "nbformat_minor": 2
}
