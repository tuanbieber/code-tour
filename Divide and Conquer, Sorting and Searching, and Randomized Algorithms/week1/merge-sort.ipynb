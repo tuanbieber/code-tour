{
 "cells": [
  {
   "cell_type": "code",
   "execution_count": 2,
   "metadata": {},
   "outputs": [],
   "source": [
    "# MergeSort(arr, l, r)\n",
    "# if l < r:\n",
    "# 1. middle point m = l + (l+r)/2\n",
    "# 2. sort the first half: MergeSort(arr, l, m)\n",
    "# 3. sort the second half: MergeSort(arr, m + 1, r)\n",
    "# 4. merge two halves sorted in step 2 and step 3\n",
    "#    MergeSort(arr, l, m, r)"
   ]
  },
  {
   "cell_type": "code",
   "execution_count": 10,
   "metadata": {},
   "outputs": [],
   "source": [
    "def mergeSort(lst):\n",
    "    if len(lst) in [0, 1]: return lst\n",
    "    else:\n",
    "        mid = len(lst)//2\n",
    "        left = lst[:mid]\n",
    "        right = lst[mid:]\n",
    "        \n",
    "        mergeSort(left)\n",
    "        mergeSort(right)\n",
    "        \n",
    "        i = j = k = 0\n",
    "        \n",
    "        while i < len(left) and j < len(right):\n",
    "            if left[i] < right[j]:\n",
    "                lst[k] = left[i]\n",
    "                i = i + 1\n",
    "            else:\n",
    "                lst[k] = right[j]\n",
    "                j = j + 1\n",
    "            k = k + 1\n",
    "                \n",
    "        while i < len(left):\n",
    "            lst[k] = left[i]\n",
    "            i = i + 1\n",
    "            k = k + 1\n",
    "            \n",
    "        while j < len(right):\n",
    "            lst[k] = right[j]\n",
    "            j = j + 1\n",
    "            k = k + 1"
   ]
  },
  {
   "cell_type": "code",
   "execution_count": 11,
   "metadata": {},
   "outputs": [
    {
     "name": "stdout",
     "output_type": "stream",
     "text": [
      "[5, 6, 7, 11, 12, 13]\n"
     ]
    }
   ],
   "source": [
    "if __name__ == '__main__':\n",
    "    lst = [ 12, 11, 13, 5, 6, 7]\n",
    "    mergeSort(lst)\n",
    "    print([item for item in lst])"
   ]
  },
  {
   "cell_type": "code",
   "execution_count": null,
   "metadata": {},
   "outputs": [],
   "source": []
  }
 ],
 "metadata": {
  "kernelspec": {
   "display_name": "Python 3",
   "language": "python",
   "name": "python3"
  },
  "language_info": {
   "codemirror_mode": {
    "name": "ipython",
    "version": 3
   },
   "file_extension": ".py",
   "mimetype": "text/x-python",
   "name": "python",
   "nbconvert_exporter": "python",
   "pygments_lexer": "ipython3",
   "version": "3.7.5"
  }
 },
 "nbformat": 4,
 "nbformat_minor": 2
}
