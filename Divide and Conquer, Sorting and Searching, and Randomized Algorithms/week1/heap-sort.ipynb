{
 "cells": [
  {
   "cell_type": "code",
   "execution_count": 3,
   "metadata": {},
   "outputs": [],
   "source": [
    "# max heap là complete binary tree, trong đó node parent luôn >= node child\n",
    "# chú ý: cây đầy dủ (complete tree) là gì?\n",
    "# parent là k thì child1 là 2k + 1 và child2 là 2k + 2"
   ]
  },
  {
   "cell_type": "code",
   "execution_count": 4,
   "metadata": {},
   "outputs": [],
   "source": [
    "# operations on heap\n",
    "# getmax(): O(1) return max element in heap \n",
    "# extractMax(): O(logn) vì cần remove xong ++ heapify() lại cây heap\n",
    "# insert(int key): O(logn) vì cần chỉnh sửa violated sau khi insert vào vị trí cuối cùng"
   ]
  },
  {
   "cell_type": "code",
   "execution_count": 5,
   "metadata": {},
   "outputs": [],
   "source": [
    "# cây nhị phân đầy đủ: mỗi node ko phải node lá đều có đúng 2 node con"
   ]
  },
  {
   "cell_type": "code",
   "execution_count": 13,
   "metadata": {},
   "outputs": [],
   "source": [
    "# time complexity: \n",
    "# single heapify take O(logn)\n",
    "# build a heap take complete O(nlogn)"
   ]
  },
  {
   "cell_type": "code",
   "execution_count": 12,
   "metadata": {},
   "outputs": [
    {
     "name": "stdout",
     "output_type": "stream",
     "text": [
      "[9, 8, 7, 6, 5, 4, 3, 2, 1, 0]\n"
     ]
    }
   ],
   "source": [
    "print([i for i in range(9,-1,-1)])"
   ]
  },
  {
   "cell_type": "code",
   "execution_count": null,
   "metadata": {},
   "outputs": [],
   "source": [
    "def heapify(lst, n, idx):\n",
    "    l = 2*idx + 1\n",
    "    r = 2*idx + 2\n",
    "    large = idx # gia su node root la node lon nhat\n",
    "    if l < n and lst[l] > lst[idx]: # left thuoc [0, n-1]\n",
    "        large = l\n",
    "    if r < n and lst[r] > lst[idx]:\n",
    "        large = r\n",
    "    "
   ]
  }
 ],
 "metadata": {
  "kernelspec": {
   "display_name": "Python 3",
   "language": "python",
   "name": "python3"
  },
  "language_info": {
   "codemirror_mode": {
    "name": "ipython",
    "version": 3
   },
   "file_extension": ".py",
   "mimetype": "text/x-python",
   "name": "python",
   "nbconvert_exporter": "python",
   "pygments_lexer": "ipython3",
   "version": "3.7.5"
  }
 },
 "nbformat": 4,
 "nbformat_minor": 2
}
