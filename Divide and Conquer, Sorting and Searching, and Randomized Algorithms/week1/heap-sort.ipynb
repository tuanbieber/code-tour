{
 "cells": [
  {
   "cell_type": "code",
   "execution_count": 3,
   "metadata": {},
   "outputs": [],
   "source": [
    "# max heap là complete binary tree, trong đó node parent luôn >= node child\n",
    "# chú ý: cây đầy dủ (complete tree) là gì?\n",
    "# parent là k thì child1 là 2k + 1 và child2 là 2k + 2"
   ]
  },
  {
   "cell_type": "code",
   "execution_count": 4,
   "metadata": {},
   "outputs": [],
   "source": [
    "# operations on heap\n",
    "# getmax(): O(1) return max element in heap \n",
    "# extractMax(): O(logn) vì cần remove xong ++ heapify() lại cây heap\n",
    "# insert(int key): O(logn) vì cần chỉnh sửa violated sau khi insert vào vị trí cuối cùng"
   ]
  },
  {
   "cell_type": "code",
   "execution_count": 5,
   "metadata": {},
   "outputs": [],
   "source": [
    "# cây nhị phân đầy đủ: mỗi node ko phải node lá đều có đúng 2 node con"
   ]
  },
  {
   "cell_type": "code",
   "execution_count": 13,
   "metadata": {},
   "outputs": [],
   "source": [
    "# time complexity: \n",
    "# single heapify take O(logn)\n",
    "# build a heap take complete O(nlogn)"
   ]
  },
  {
   "cell_type": "code",
   "execution_count": 30,
   "metadata": {},
   "outputs": [
    {
     "name": "stdout",
     "output_type": "stream",
     "text": [
      "[9, 8, 7, 6, 5, 4, 3, 2, 1, 0]\n"
     ]
    }
   ],
   "source": [
    "print([i for i in range(9,-1,-1)])"
   ]
  },
  {
   "cell_type": "code",
   "execution_count": 48,
   "metadata": {},
   "outputs": [],
   "source": [
    "def heapify(lst, n, idx):\n",
    "    l = 2*idx + 1\n",
    "    r = 2*idx + 2\n",
    "    large = idx # gia su node root la node lon nhat\n",
    "    if l < n and lst[l] > lst[idx]: # left thuoc [0, n-1]\n",
    "        large = l\n",
    "    if r < n and lst[large] < lst[r]:\n",
    "        large = r\n",
    "    if large != idx: # tuc node lon hon ko phai la node root\n",
    "        lst[idx], lst[large] = lst[large], lst[idx]\n",
    "        heapify(lst, n, large)"
   ]
  },
  {
   "cell_type": "code",
   "execution_count": 49,
   "metadata": {},
   "outputs": [],
   "source": [
    "lst = [8,3,6,5,7,2,1,888]"
   ]
  },
  {
   "cell_type": "code",
   "execution_count": 50,
   "metadata": {},
   "outputs": [],
   "source": [
    "def heapSort(arr): \n",
    "    n = len(arr) \n",
    "  \n",
    "    # Build a maxheap. \n",
    "    for i in range(n, -1, -1): \n",
    "        heapify(arr, n, i) "
   ]
  },
  {
   "cell_type": "code",
   "execution_count": 51,
   "metadata": {},
   "outputs": [
    {
     "data": {
      "text/plain": [
       "[888, 8, 6, 5, 7, 2, 1, 3]"
      ]
     },
     "execution_count": 51,
     "metadata": {},
     "output_type": "execute_result"
    }
   ],
   "source": [
    "heapSort(lst)\n",
    "lst"
   ]
  },
  {
   "cell_type": "markdown",
   "metadata": {},
   "source": [
    "# understanding heapsort"
   ]
  },
  {
   "cell_type": "code",
   "execution_count": 131,
   "metadata": {},
   "outputs": [],
   "source": [
    "def doheapify(lst, pos, limit): # thuc hien heap voi array = st tai vi tri pos\n",
    "    left = 2*pos + 1\n",
    "    right = 2*pos + 2\n",
    "    bigger = pos # gia su phan tu lon nhat la parent (root)\n",
    "    if left < limit: # dam bao left ko ra ngoai \n",
    "        if lst[left] > lst[bigger]: bigger = left\n",
    "    if right < limit:\n",
    "        if lst[right] > lst[bigger]: bigger = right\n",
    "    # swap (bigger va root) <=> bigger != pos\n",
    "    if bigger != pos:\n",
    "        print('swap ', lst[pos], ' <=> ', lst[bigger])\n",
    "        lst[pos], lst[bigger] = lst[bigger], lst[pos]\n",
    "        doheapify(lst, bigger, limit)"
   ]
  },
  {
   "cell_type": "code",
   "execution_count": 151,
   "metadata": {},
   "outputs": [],
   "source": [
    "def heapSort2(lst):\n",
    "    c = len(lst)//2 - 1\n",
    "    limit = len(lst)\n",
    "    for i in range(c, -1, -1): # build max - heap\n",
    "        doheapify(lst, i, limit)\n",
    "    for i in range(len(lst)-1, 0, -1):\n",
    "        lst[0], lst[i] = lst[i], lst[0]\n",
    "        doheapify(lst, 0, i)"
   ]
  },
  {
   "cell_type": "code",
   "execution_count": 139,
   "metadata": {},
   "outputs": [],
   "source": [
    "lst = [2, 88, 50, 3, 100, 60, 2000]"
   ]
  },
  {
   "cell_type": "code",
   "execution_count": 140,
   "metadata": {},
   "outputs": [
    {
     "name": "stdout",
     "output_type": "stream",
     "text": [
      "swap  50  <=>  2000\n",
      "swap  88  <=>  100\n",
      "swap  2  <=>  2000\n",
      "swap  2  <=>  60\n",
      "swap  50  <=>  100\n",
      "swap  50  <=>  88\n",
      "swap  2  <=>  88\n",
      "swap  2  <=>  50\n",
      "swap  2  <=>  60\n",
      "swap  3  <=>  50\n",
      "swap  2  <=>  3\n",
      "[2, 3, 50, 60, 88, 100, 2000]\n"
     ]
    }
   ],
   "source": [
    "heapSort2(lst)\n",
    "# doheapify(lst, 0, len(lst))\n",
    "print(lst)"
   ]
  },
  {
   "cell_type": "markdown",
   "metadata": {},
   "source": [
    "# buttom-up problem"
   ]
  },
  {
   "cell_type": "code",
   "execution_count": 142,
   "metadata": {},
   "outputs": [],
   "source": [
    "# tại sao khi heapify phải dùng limit?\n",
    "# tại sao khi build heap-max hoặc heap-min ta phải chạy từ dưới lên, tức đi từ [len(array); 0]\n",
    "# giải thích: \n",
    "# limit trong heapify dùng để giới hạn index của phần từ cần duyệt\n",
    "# ví dụ limit = 11 thì chỉ duyệt đến phần từ thứ 10\n",
    "# điều này giúp việc thuật toán sort hoạt động vì khi ta đổi vị trí giữa arr[0] và arr[-1] \n",
    "# thì tiếp tục gọi heapify, lúc này limit sẽ giúp heapify bỏ phần tử cuối cùng ra (vì bản thân phần từ cuối cùng\n",
    "# này đã được sorted rồi)"
   ]
  },
  {
   "cell_type": "code",
   "execution_count": 143,
   "metadata": {},
   "outputs": [],
   "source": [
    "# vì sao lại chạy từ dưới lên mà không chạy từ trên xuống thì build max-heap hoặc min-heap\n",
    "# vì heapify từ dưới lên mới vét hết giá trị của mảng cần sort\n",
    "# giả sử một phần tử lớn nhất ở dưới cùng, nên ko heapify như vậy sẽ ko đưa đc nó lên đầu mảng,..."
   ]
  },
  {
   "cell_type": "markdown",
   "metadata": {},
   "source": [
    "# sort decreasingly a list"
   ]
  },
  {
   "cell_type": "code",
   "execution_count": 144,
   "metadata": {},
   "outputs": [],
   "source": [
    "def heapify_min(lst, root, limit): # use to build min-heap\n",
    "    left = root*2 + 1\n",
    "    right = root*2 + 2\n",
    "    smaller = root\n",
    "    if left < limit:\n",
    "        if lst[left] < lst[smaller]:\n",
    "            smaller = left\n",
    "    if right < limit:\n",
    "        if lst[right] < lst[smaller]:\n",
    "            smaller = right\n",
    "    # neu smaller != root, tuc smaller la left hoac smaller la right thi moi hoan doi\n",
    "    if smaller != root:\n",
    "        lst[smaller], lst[root] = lst[root], lst[smaller]\n",
    "        heapify_min(lst, smaller, limit)"
   ]
  },
  {
   "cell_type": "code",
   "execution_count": 145,
   "metadata": {},
   "outputs": [],
   "source": [
    "def buildMinHeap(lst):\n",
    "    c = len(lst)//2 - 1\n",
    "    for i in range(c, -1, -1):\n",
    "        heapify_min(lst, i, len(lst))"
   ]
  },
  {
   "cell_type": "code",
   "execution_count": 161,
   "metadata": {},
   "outputs": [
    {
     "name": "stdout",
     "output_type": "stream",
     "text": [
      "original list  [12, 34, 65, -35, 24, 0, 69, 90]\n",
      "min-heap       [-35, 12, 0, 34, 24, 65, 69, 90]\n"
     ]
    }
   ],
   "source": [
    "lst1 = [12,34,65,-35,24,0,69,90]\n",
    "print('original list ', lst1)\n",
    "buildMinHeap(lst1)\n",
    "print('min-heap      ', lst1)"
   ]
  },
  {
   "cell_type": "code",
   "execution_count": 172,
   "metadata": {},
   "outputs": [],
   "source": [
    "def heapSortDecrease(lst):\n",
    "    buildMinHeap(lst)\n",
    "    for i in range(len(lst)-1, 0, -1):\n",
    "        # i is the limit in heapify\n",
    "        lst[0], lst[i] = lst[i], lst[0]\n",
    "        heapify_min(lst, 0, i)"
   ]
  },
  {
   "cell_type": "code",
   "execution_count": 173,
   "metadata": {},
   "outputs": [
    {
     "name": "stdout",
     "output_type": "stream",
     "text": [
      "[90, 69, 65, 34, 24, 12, 0, -35]\n"
     ]
    }
   ],
   "source": [
    "buildMinHeap(lst1)\n",
    "heapSortDecrease(lst1)\n",
    "print(lst1)"
   ]
  },
  {
   "cell_type": "markdown",
   "metadata": {},
   "source": [
    "# application of heapsort"
   ]
  },
  {
   "cell_type": "markdown",
   "metadata": {},
   "source": [
    "## finding k smallest (largest) number in an array"
   ]
  },
  {
   "cell_type": "code",
   "execution_count": null,
   "metadata": {},
   "outputs": [],
   "source": []
  }
 ],
 "metadata": {
  "kernelspec": {
   "display_name": "Python 3",
   "language": "python",
   "name": "python3"
  },
  "language_info": {
   "codemirror_mode": {
    "name": "ipython",
    "version": 3
   },
   "file_extension": ".py",
   "mimetype": "text/x-python",
   "name": "python",
   "nbconvert_exporter": "python",
   "pygments_lexer": "ipython3",
   "version": "3.7.5"
  }
 },
 "nbformat": 4,
 "nbformat_minor": 2
}
