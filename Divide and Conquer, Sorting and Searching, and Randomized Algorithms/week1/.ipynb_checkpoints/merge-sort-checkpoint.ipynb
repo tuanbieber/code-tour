{
 "cells": [
  {
   "cell_type": "code",
   "execution_count": 2,
   "metadata": {},
   "outputs": [],
   "source": [
    "# MergeSort(arr, l, r)\n",
    "# if l < r:\n",
    "# 1. middle point m = l + (l+r)/2\n",
    "# 2. sort the first half: MergeSort(arr, l, m)\n",
    "# 3. sort the second half: MergeSort(arr, m + 1, r)\n",
    "# 4. merge two halves sorted in step 2 and step 3\n",
    "#    MergeSort(arr, l, m, r)"
   ]
  },
  {
   "cell_type": "code",
   "execution_count": 10,
   "metadata": {},
   "outputs": [],
   "source": [
    "def mergeSort(lst):\n",
    "    if len(lst) in [0, 1]: return lst\n",
    "    else:\n",
    "        mid = len(lst)//2\n",
    "        left = lst[:mid]\n",
    "        right = lst[mid:]\n",
    "        \n",
    "        mergeSort(left)\n",
    "        mergeSort(right)\n",
    "        \n",
    "        i = j = k = 0\n",
    "        \n",
    "        while i < len(left) and j < len(right):\n",
    "            if left[i] < right[j]:\n",
    "                lst[k] = left[i]\n",
    "                i = i + 1\n",
    "            else:\n",
    "                lst[k] = right[j]\n",
    "                j = j + 1\n",
    "            k = k + 1\n",
    "                \n",
    "        while i < len(left):\n",
    "            lst[k] = left[i]\n",
    "            i = i + 1\n",
    "            k = k + 1\n",
    "            \n",
    "        while j < len(right):\n",
    "            lst[k] = right[j]\n",
    "            j = j + 1\n",
    "            k = k + 1"
   ]
  },
  {
   "cell_type": "code",
   "execution_count": 14,
   "metadata": {},
   "outputs": [
    {
     "name": "stdout",
     "output_type": "stream",
     "text": [
      "[1, 2, 18, 19, 20, 23, 1000]\n"
     ]
    }
   ],
   "source": [
    "if __name__ == '__main__':\n",
    "    lst = [2, 1, 23, 1000, 18, 20, 19]\n",
    "    mergeSort(lst)\n",
    "    print([item for item in lst])"
   ]
  },
  {
   "cell_type": "code",
   "execution_count": 27,
   "metadata": {},
   "outputs": [],
   "source": [
    "def sort(lst):\n",
    "    if len(lst) in [0, 1]: return lst\n",
    "    else:\n",
    "        mid = len(lst)//2\n",
    "        \n",
    "        left = lst[:mid]\n",
    "        right = lst[mid:]\n",
    "        \n",
    "        sort(left)\n",
    "        sort(right)\n",
    "        \n",
    "        print('after sort ', end='\\n')\n",
    "        print('left ', left)\n",
    "        print('right ', right)\n",
    "        print('\\n')\n",
    "        \n",
    "        i = j = k = 0\n",
    "        \n",
    "        while i < len(left) and j < len(right):\n",
    "            if left[i] < right[j]:\n",
    "                lst[k] = left[i]\n",
    "                i = i + 1\n",
    "            else:\n",
    "                lst[k] = right[j]\n",
    "                j = j + 1\n",
    "            k = k + 1\n",
    "        \n",
    "        # them phan con lai vao lst\n",
    "        while i < len(left):\n",
    "            lst[k] = left[i]\n",
    "            i = i + 1\n",
    "        \n",
    "        while j < len(right):\n",
    "            lst[k] = right[j]\n",
    "            j = j + 1"
   ]
  },
  {
   "cell_type": "code",
   "execution_count": 29,
   "metadata": {},
   "outputs": [
    {
     "name": "stdout",
     "output_type": "stream",
     "text": [
      "after sort \n",
      "left  [12]\n",
      "right  [51]\n",
      "\n",
      "\n",
      "after sort \n",
      "left  [23]\n",
      "right  [54]\n",
      "\n",
      "\n",
      "after sort \n",
      "left  [68]\n",
      "right  [23, 54]\n",
      "\n",
      "\n",
      "after sort \n",
      "left  [12, 51]\n",
      "right  [23, 54, 68]\n",
      "\n",
      "\n",
      "after sort \n",
      "left  [53]\n",
      "right  [65]\n",
      "\n",
      "\n",
      "after sort \n",
      "left  [0]\n",
      "right  [32]\n",
      "\n",
      "\n",
      "after sort \n",
      "left  [2454]\n",
      "right  [0, 32]\n",
      "\n",
      "\n",
      "after sort \n",
      "left  [53, 65]\n",
      "right  [0, 32, 2454]\n",
      "\n",
      "\n",
      "after sort \n",
      "left  [12, 23, 51, 68, 54]\n",
      "right  [0, 32, 53, 65, 2454]\n",
      "\n",
      "\n",
      "[0, 12, 23, 32, 51, 53, 65, 68, 54, 2454]\n"
     ]
    }
   ],
   "source": [
    "if __name__ == '__main__':\n",
    "    l = [12,51,68,23 ,54,53,65,2454,0,32]\n",
    "    sort(l)\n",
    "    print([item for item in l])"
   ]
  },
  {
   "cell_type": "code",
   "execution_count": 30,
   "metadata": {},
   "outputs": [
    {
     "data": {
      "text/plain": [
       "[12, 51, 68, 23, 54, 53, 65, 2454, 0, 32]"
      ]
     },
     "execution_count": 30,
     "metadata": {},
     "output_type": "execute_result"
    }
   ],
   "source": [
    "[12,51,68,23 ,54,53,65,2454,0,32]"
   ]
  },
  {
   "cell_type": "code",
   "execution_count": 32,
   "metadata": {},
   "outputs": [],
   "source": [
    "# time complexity of mergesort is O(nlogn) in all 3 cases: best, worst and average \n",
    "# as merge sort always divides the array into two halves and take linear time to merge two halves.\n",
    "# Auxiliary Space: O(n)\n",
    "# Algorithmic Paradigm: Divide and Conquer\n",
    "# Stable: YesT\n",
    "# Applications of Merge Sort"
   ]
  },
  {
   "cell_type": "code",
   "execution_count": 2,
   "metadata": {},
   "outputs": [],
   "source": [
    "def mergeSort(lst):\n",
    "    if len(lst) == 1: return lst\n",
    "    \n",
    "    left = lst[: len(lst)//2]\n",
    "    right = lst[len(lst)//2 :]\n",
    "    \n",
    "    mergeSort(left)\n",
    "    mergeSort(right)\n",
    "    \n",
    "    i = j = k = 0\n",
    "    \n",
    "    while i < len(left) and j < len(right):\n",
    "        if left[i] < right[j]:\n",
    "            lst[k] = right[j]\n",
    "            j = j + 1\n",
    "        else:\n",
    "            lst[k] = left[i]\n",
    "            i = i + 1\n",
    "        k = k + 1\n",
    "        \n",
    "    while i < len(left):\n",
    "        lst[k] = left[i]\n",
    "        i = i + 1\n",
    "        k = k + 1\n",
    "    \n",
    "    while j < len(right):\n",
    "        lst[k] = right[j]\n",
    "        j = j + 1\n",
    "        k = k + 1"
   ]
  },
  {
   "cell_type": "code",
   "execution_count": 4,
   "metadata": {},
   "outputs": [
    {
     "name": "stdout",
     "output_type": "stream",
     "text": [
      "[54, 23, 1, 5, 64, 0, -34, 1111]\n",
      "[1111, 64, 54, 23, 5, 1, 0, -34]\n"
     ]
    }
   ],
   "source": [
    "lst = [54, 23, 1, 5, 64, 0, - 34, 1111]\n",
    "print(lst)\n",
    "mergeSort(lst)\n",
    "print(lst)"
   ]
  },
  {
   "cell_type": "markdown",
   "metadata": {},
   "source": [
    "# Application of mergeSort"
   ]
  },
  {
   "cell_type": "code",
   "execution_count": null,
   "metadata": {},
   "outputs": [],
   "source": []
  }
 ],
 "metadata": {
  "kernelspec": {
   "display_name": "Python 3",
   "language": "python",
   "name": "python3"
  },
  "language_info": {
   "codemirror_mode": {
    "name": "ipython",
    "version": 3
   },
   "file_extension": ".py",
   "mimetype": "text/x-python",
   "name": "python",
   "nbconvert_exporter": "python",
   "pygments_lexer": "ipython3",
   "version": "3.7.5"
  }
 },
 "nbformat": 4,
 "nbformat_minor": 2
}
