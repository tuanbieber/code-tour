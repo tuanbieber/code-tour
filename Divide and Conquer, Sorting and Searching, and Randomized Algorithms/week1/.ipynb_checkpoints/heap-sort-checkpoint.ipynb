{
 "cells": [
  {
   "cell_type": "code",
   "execution_count": 3,
   "metadata": {},
   "outputs": [],
   "source": [
    "# max heap là complete binary tree, trong đó node parent luôn >= node child\n",
    "# chú ý: cây đầy dủ (complete tree) là gì?\n",
    "# parent là k thì child1 là 2k + 1 và child2 là 2k + 2"
   ]
  },
  {
   "cell_type": "code",
   "execution_count": 4,
   "metadata": {},
   "outputs": [],
   "source": [
    "# operations on heap\n",
    "# getmax(): O(1) return max element in heap \n",
    "# extractMax(): O(logn) vì cần remove xong ++ heapify() lại cây heap\n",
    "# insert(int key): O(logn) vì cần chỉnh sửa violated sau khi insert vào vị trí cuối cùng"
   ]
  },
  {
   "cell_type": "code",
   "execution_count": null,
   "metadata": {},
   "outputs": [],
   "source": [
    "# cây nhị phân đầy đủ: mỗi node ko phải node lá đều có đúng 2 node con\n",
    "# "
   ]
  }
 ],
 "metadata": {
  "kernelspec": {
   "display_name": "Python 3",
   "language": "python",
   "name": "python3"
  },
  "language_info": {
   "codemirror_mode": {
    "name": "ipython",
    "version": 3
   },
   "file_extension": ".py",
   "mimetype": "text/x-python",
   "name": "python",
   "nbconvert_exporter": "python",
   "pygments_lexer": "ipython3",
   "version": "3.7.5"
  }
 },
 "nbformat": 4,
 "nbformat_minor": 2
}
