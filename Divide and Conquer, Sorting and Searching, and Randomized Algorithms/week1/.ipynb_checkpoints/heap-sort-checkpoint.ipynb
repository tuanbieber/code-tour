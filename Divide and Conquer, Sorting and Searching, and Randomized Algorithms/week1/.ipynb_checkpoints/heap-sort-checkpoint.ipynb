{
 "cells": [
  {
   "cell_type": "code",
   "execution_count": 3,
   "metadata": {},
   "outputs": [],
   "source": [
    "# max heap là complete binary tree, trong đó node parent luôn >= node child\n",
    "# chú ý: cây đầy dủ (complete tree) là gì?\n",
    "# parent là k thì child1 là 2k + 1 và child2 là 2k + 2"
   ]
  },
  {
   "cell_type": "code",
   "execution_count": 4,
   "metadata": {},
   "outputs": [],
   "source": [
    "# operations on heap\n",
    "# getmax(): O(1) return max element in heap \n",
    "# extractMax(): O(logn) vì cần remove xong ++ heapify() lại cây heap\n",
    "# insert(int key): O(logn) vì cần chỉnh sửa violated sau khi insert vào vị trí cuối cùng"
   ]
  },
  {
   "cell_type": "code",
   "execution_count": 5,
   "metadata": {},
   "outputs": [],
   "source": [
    "# cây nhị phân đầy đủ: mỗi node ko phải node lá đều có đúng 2 node con"
   ]
  },
  {
   "cell_type": "code",
   "execution_count": 13,
   "metadata": {},
   "outputs": [],
   "source": [
    "# time complexity: \n",
    "# single heapify take O(logn)\n",
    "# build a heap take complete O(nlogn)"
   ]
  },
  {
   "cell_type": "code",
   "execution_count": 30,
   "metadata": {},
   "outputs": [
    {
     "name": "stdout",
     "output_type": "stream",
     "text": [
      "[9, 8, 7, 6, 5, 4, 3, 2, 1, 0]\n"
     ]
    }
   ],
   "source": [
    "print([i for i in range(9,-1,-1)])"
   ]
  },
  {
   "cell_type": "code",
   "execution_count": 48,
   "metadata": {},
   "outputs": [],
   "source": [
    "def heapify(lst, n, idx):\n",
    "    l = 2*idx + 1\n",
    "    r = 2*idx + 2\n",
    "    large = idx # gia su node root la node lon nhat\n",
    "    if l < n and lst[l] > lst[idx]: # left thuoc [0, n-1]\n",
    "        large = l\n",
    "    if r < n and lst[large] < lst[r]:\n",
    "        large = r\n",
    "    if large != idx: # tuc node lon hon ko phai la node root\n",
    "        lst[idx], lst[large] = lst[large], lst[idx]\n",
    "        heapify(lst, n, large)"
   ]
  },
  {
   "cell_type": "code",
   "execution_count": 49,
   "metadata": {},
   "outputs": [],
   "source": [
    "lst = [8,3,6,5,7,2,1,888]"
   ]
  },
  {
   "cell_type": "code",
   "execution_count": 50,
   "metadata": {},
   "outputs": [],
   "source": [
    "def heapSort(arr): \n",
    "    n = len(arr) \n",
    "  \n",
    "    # Build a maxheap. \n",
    "    for i in range(n, -1, -1): \n",
    "        heapify(arr, n, i) "
   ]
  },
  {
   "cell_type": "code",
   "execution_count": 51,
   "metadata": {},
   "outputs": [
    {
     "data": {
      "text/plain": [
       "[888, 8, 6, 5, 7, 2, 1, 3]"
      ]
     },
     "execution_count": 51,
     "metadata": {},
     "output_type": "execute_result"
    }
   ],
   "source": [
    "heapSort(lst)\n",
    "lst"
   ]
  },
  {
   "cell_type": "markdown",
   "metadata": {},
   "source": [
    "# understanding heapsort"
   ]
  },
  {
   "cell_type": "code",
   "execution_count": 20,
   "metadata": {},
   "outputs": [],
   "source": [
    "def doheapify(lst, pos): # thuc hien heap voi array = st tai vi tri pos\n",
    "    left = 2*pos + 1\n",
    "    right = 2*pos + 2\n",
    "    bigger = pos # gia su phan tu lon nhat la parent (root)\n",
    "    if left < len(lst): # dam bao left ko ra ngoai \n",
    "        if lst[left] > lst[bigger]: bigger = left\n",
    "    if right < len(lst):\n",
    "        if lst[right] > lst[bigger]: bigger = right\n",
    "    # swap (bigger va root) <=> bigger != pos\n",
    "    if bigger != pos:\n",
    "        lst[pos], lst[bigger] = lst[bigger], lst[pos]\n",
    "        doheapify(lst, bigger)"
   ]
  },
  {
   "cell_type": "code",
   "execution_count": 47,
   "metadata": {},
   "outputs": [],
   "source": [
    "def heapSort2(lst):\n",
    "    c = len(lst)//2 - 1\n",
    "    for i in range(c, -1, -1):\n",
    "        print(i)\n",
    "        doheapify(lst, i)"
   ]
  },
  {
   "cell_type": "code",
   "execution_count": 42,
   "metadata": {},
   "outputs": [],
   "source": [
    "lst = [8,3,6,5,7,2,1,888]"
   ]
  },
  {
   "cell_type": "code",
   "execution_count": 46,
   "metadata": {},
   "outputs": [
    {
     "data": {
      "text/plain": [
       "[888, 8, 6, 5, 7, 2, 1, 3]"
      ]
     },
     "execution_count": 46,
     "metadata": {},
     "output_type": "execute_result"
    }
   ],
   "source": [
    "doheapify(lst, 0)\n",
    "lst"
   ]
  },
  {
   "cell_type": "code",
   "execution_count": 39,
   "metadata": {},
   "outputs": [
    {
     "name": "stdout",
     "output_type": "stream",
     "text": [
      "[8, 3, 6, 5, 7, 2, 1, 888]\n",
      "3\n",
      "2\n",
      "1\n",
      "0\n",
      "[888, 8, 6, 5, 7, 2, 1, 3]\n"
     ]
    }
   ],
   "source": [
    "print(lst)\n",
    "heapSort(lst)\n",
    "print(lst)"
   ]
  },
  {
   "cell_type": "code",
   "execution_count": null,
   "metadata": {},
   "outputs": [],
   "source": []
  }
 ],
 "metadata": {
  "kernelspec": {
   "display_name": "Python 3",
   "language": "python",
   "name": "python3"
  },
  "language_info": {
   "codemirror_mode": {
    "name": "ipython",
    "version": 3
   },
   "file_extension": ".py",
   "mimetype": "text/x-python",
   "name": "python",
   "nbconvert_exporter": "python",
   "pygments_lexer": "ipython3",
   "version": "3.7.5"
  }
 },
 "nbformat": 4,
 "nbformat_minor": 2
}
