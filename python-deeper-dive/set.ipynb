{
 "cells": [
  {
   "cell_type": "markdown",
   "metadata": {},
   "source": [
    "# 1. Implement set in python"
   ]
  },
  {
   "cell_type": "markdown",
   "metadata": {},
   "source": [
    "* https://www.oreilly.com/library/view/python-cookbook/0596001673/ch05s18.html\n",
    "* https://docs.python.org/2/library/sets.html"
   ]
  },
  {
   "cell_type": "code",
   "execution_count": 25,
   "metadata": {},
   "outputs": [],
   "source": [
    "class Set:\n",
    "    def __init__(self, *args):\n",
    "        self._dict = {}\n",
    "        for arg in args:\n",
    "            self.add(arg)\n",
    "\n",
    "    def __repr__(self):\n",
    "        elems = list(map(repr, self._dict.keys(  )))\n",
    "        elems.sort(  )\n",
    "        return \"%s(%s)\" % (self.__class__.__name__, ', '.join(elems))\n",
    "\n",
    "    def extend(self, args):\n",
    "        \"\"\" Add several items at once. \"\"\"\n",
    "        for arg in args:\n",
    "            self.add(arg)\n",
    "\n",
    "    def add(self, item):\n",
    "        \"\"\" Add one item to the set. \"\"\"\n",
    "        self._dict[item] = item\n",
    "\n",
    "    def remove(self, item):\n",
    "        \"\"\" Remove an item from the set. \"\"\"\n",
    "        del self._dict[item]\n",
    "\n",
    "    def contains(self, item):\n",
    "        \"\"\" Check whether the set contains a certain item. \"\"\"\n",
    "        return self._dict.has_key(item)\n",
    "\n",
    "    # High-performance membership test for Python 2.0 and later\n",
    "    __contains__ = contains\n",
    "\n",
    "    def __getitem__(self, index):\n",
    "        \"\"\" Support the 'for item in set:' protocol. \"\"\"\n",
    "        return self._dict.keys(  )[index]\n",
    "\n",
    "    def __iter__(self):\n",
    "        \"\"\" Better support of 'for item in set:' via Python 2.2 iterators \"\"\"\n",
    "        return iter(self._dict.copy(  ))\n",
    "\n",
    "    def __len__(self):\n",
    "        \"\"\" Return the number of items in the set \"\"\"\n",
    "        return len(self._dict)\n",
    "\n",
    "    def items(self):\n",
    "        \"\"\" Return a list containing all items in sorted order, if possible \"\"\"\n",
    "        result = self._dict.keys(  )\n",
    "        try: result.sort(  )\n",
    "        except: pass\n",
    "        return result\n",
    "\n",
    "    def __copy__(self):\n",
    "        return Set(self)"
   ]
  },
  {
   "cell_type": "code",
   "execution_count": 26,
   "metadata": {},
   "outputs": [],
   "source": [
    "s1 = Set(1,2,3,4,5,6)"
   ]
  },
  {
   "cell_type": "code",
   "execution_count": 27,
   "metadata": {},
   "outputs": [],
   "source": [
    "s1.add(12)"
   ]
  },
  {
   "cell_type": "code",
   "execution_count": 28,
   "metadata": {
    "scrolled": false
   },
   "outputs": [
    {
     "data": {
      "text/plain": [
       "7"
      ]
     },
     "execution_count": 28,
     "metadata": {},
     "output_type": "execute_result"
    }
   ],
   "source": [
    "s1.__len__()"
   ]
  },
  {
   "cell_type": "code",
   "execution_count": 29,
   "metadata": {},
   "outputs": [
    {
     "data": {
      "text/plain": [
       "'Set(1, 12, 2, 3, 4, 5, 6)'"
      ]
     },
     "execution_count": 29,
     "metadata": {},
     "output_type": "execute_result"
    }
   ],
   "source": [
    "s1.__repr__()"
   ]
  },
  {
   "cell_type": "code",
   "execution_count": 36,
   "metadata": {},
   "outputs": [
    {
     "data": {
      "text/plain": [
       "[1, 2, 3, 4, 5, 6, 12]"
      ]
     },
     "execution_count": 36,
     "metadata": {},
     "output_type": "execute_result"
    }
   ],
   "source": [
    "[item for item in s1._dict.keys()]"
   ]
  },
  {
   "cell_type": "code",
   "execution_count": 37,
   "metadata": {},
   "outputs": [],
   "source": [
    "s1.add(3)"
   ]
  },
  {
   "cell_type": "code",
   "execution_count": null,
   "metadata": {},
   "outputs": [],
   "source": []
  }
 ],
 "metadata": {
  "kernelspec": {
   "display_name": "Python 3",
   "language": "python",
   "name": "python3"
  },
  "language_info": {
   "codemirror_mode": {
    "name": "ipython",
    "version": 3
   },
   "file_extension": ".py",
   "mimetype": "text/x-python",
   "name": "python",
   "nbconvert_exporter": "python",
   "pygments_lexer": "ipython3",
   "version": "3.7.5"
  }
 },
 "nbformat": 4,
 "nbformat_minor": 2
}
