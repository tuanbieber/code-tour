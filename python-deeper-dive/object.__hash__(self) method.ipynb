{
 "cells": [
  {
   "cell_type": "code",
   "execution_count": 6,
   "metadata": {},
   "outputs": [],
   "source": [
    "set1 = {1,2,3,4,5,'tuanbieber',(11,22) }"
   ]
  },
  {
   "cell_type": "code",
   "execution_count": null,
   "metadata": {},
   "outputs": [],
   "source": []
  },
  {
   "cell_type": "markdown",
   "metadata": {},
   "source": [
    "* Element in Set must be immutable (hashsable)\n",
    "* Set itself is an unhashble object, in addition, every single element in set must be hashable. So a set cannot contain another set\n",
    "* The hash(object) return the hash value of an object if it has one. \n",
    "* Hash values are intergers.\n",
    "* They are used to quickly compare the dictionary keys during the dictionary lookup\n",
    "* Two numeric values with different types may have the same hash value (for instance 1 and 1.0)"
   ]
  },
  {
   "cell_type": "code",
   "execution_count": null,
   "metadata": {},
   "outputs": [],
   "source": []
  }
 ],
 "metadata": {
  "kernelspec": {
   "display_name": "Python 3",
   "language": "python",
   "name": "python3"
  },
  "language_info": {
   "codemirror_mode": {
    "name": "ipython",
    "version": 3
   },
   "file_extension": ".py",
   "mimetype": "text/x-python",
   "name": "python",
   "nbconvert_exporter": "python",
   "pygments_lexer": "ipython3",
   "version": "3.7.5"
  }
 },
 "nbformat": 4,
 "nbformat_minor": 2
}
