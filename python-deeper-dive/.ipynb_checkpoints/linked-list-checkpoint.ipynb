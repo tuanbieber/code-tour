{
 "cells": [
  {
   "cell_type": "code",
   "execution_count": 8,
   "metadata": {},
   "outputs": [],
   "source": [
    "class Node(object):\n",
    "    \n",
    "    __slots__ = ('value', 'next')\n",
    "    \n",
    "    def __init__(self, value, next = None):\n",
    "        self.value = value\n",
    "        self.next = next\n",
    "        \n",
    "class LinkedList(object):\n",
    "    def __init__(self):\n",
    "        self.head = None\n",
    "        self.tail = None\n",
    "        self._len = 0\n",
    "        \n",
    "    def insert(self, value):\n",
    "        newNone = Node(value)\n",
    "        if not self.head:\n",
    "            self.head = self.tail = newNode\n",
    "        else:\n",
    "            self.tail.next = node\n",
    "            self.tail = node\n",
    "        self._len += 1\n",
    "        \n",
    "    def remove(self, value):\n",
    "        node, prev, isFound = self._find_value(self.head, None, value)\n",
    "        if not node: # list rong\n",
    "            raise ValueError()\n",
    "        if not prev: # removing the head of list\n",
    "            self.head = node.next\n",
    "        else: # removing non-head element \n",
    "            prev.next = node.next\n",
    "        \n",
    "        if not node.next:\n",
    "            self.tail = prev\n",
    "        \n",
    "        seff._len -= 1\n",
    "        \n",
    "    def _find_value(self, cur, prev, value):\n",
    "        while cur: \n",
    "            if cur.value == value:\n",
    "                return cur, prev, True\n",
    "            else:\n",
    "                prev = cur\n",
    "                cur = cur.next\n",
    "        return cur, prev, False\n",
    "    \n",
    "    def __contain__(self, value):\n",
    "        "
   ]
  },
  {
   "cell_type": "code",
   "execution_count": null,
   "metadata": {},
   "outputs": [],
   "source": []
  }
 ],
 "metadata": {
  "kernelspec": {
   "display_name": "Python 3",
   "language": "python",
   "name": "python3"
  },
  "language_info": {
   "codemirror_mode": {
    "name": "ipython",
    "version": 3
   },
   "file_extension": ".py",
   "mimetype": "text/x-python",
   "name": "python",
   "nbconvert_exporter": "python",
   "pygments_lexer": "ipython3",
   "version": "3.7.5"
  }
 },
 "nbformat": 4,
 "nbformat_minor": 2
}
